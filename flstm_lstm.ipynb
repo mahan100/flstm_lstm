{
 "cells": [
  {
   "cell_type": "code",
   "execution_count": 1,
   "metadata": {
    "colab": {
     "base_uri": "https://localhost:8080/"
    },
    "id": "iPBUvgX5YbFy",
    "outputId": "4c4659f4-9f02-475a-d2c3-3cbb977cca1f"
   },
   "outputs": [
    {
     "name": "stderr",
     "output_type": "stream",
     "text": [
      "2024-06-01 18:30:16.941036: I tensorflow/core/platform/cpu_feature_guard.cc:193] This TensorFlow binary is optimized with oneAPI Deep Neural Network Library (oneDNN) to use the following CPU instructions in performance-critical operations:  AVX2 AVX_VNNI FMA\n",
      "To enable them in other operations, rebuild TensorFlow with the appropriate compiler flags.\n",
      "2024-06-01 18:30:16.994032: I tensorflow/core/util/util.cc:169] oneDNN custom operations are on. You may see slightly different numerical results due to floating-point round-off errors from different computation orders. To turn them off, set the environment variable `TF_ENABLE_ONEDNN_OPTS=0`.\n",
      "2024-06-01 18:30:17.009383: E tensorflow/stream_executor/cuda/cuda_blas.cc:2981] Unable to register cuBLAS factory: Attempting to register factory for plugin cuBLAS when one has already been registered\n",
      "2024-06-01 18:30:17.273877: W tensorflow/stream_executor/platform/default/dso_loader.cc:64] Could not load dynamic library 'libnvinfer.so.7'; dlerror: libnvinfer.so.7: cannot open shared object file: No such file or directory; LD_LIBRARY_PATH: :/home/mehdi/.conda/envs/tf/lib/\n",
      "2024-06-01 18:30:17.273977: W tensorflow/stream_executor/platform/default/dso_loader.cc:64] Could not load dynamic library 'libnvinfer_plugin.so.7'; dlerror: libnvinfer_plugin.so.7: cannot open shared object file: No such file or directory; LD_LIBRARY_PATH: :/home/mehdi/.conda/envs/tf/lib/\n",
      "2024-06-01 18:30:17.273979: W tensorflow/compiler/tf2tensorrt/utils/py_utils.cc:38] TF-TRT Warning: Cannot dlopen some TensorRT libraries. If you would like to use Nvidia GPU with TensorRT, please make sure the missing libraries mentioned above are installed properly.\n"
     ]
    }
   ],
   "source": [
    "import matplotlib.pyplot as plt\n",
    "import math\n",
    "import numpy as np\n",
    "import pandas as pd\n",
    "from sklearn.preprocessing import MinMaxScaler\n",
    "from tensorflow.keras.models import Sequential # type: ignore\n",
    "from tensorflow.keras.layers import Dense,LSTM # type: ignore\n",
    "import tensorflow as tf\n",
    "from tensorflow.keras.callbacks import ModelCheckpoint # type: ignore\n",
    "import json\n",
    "import keras_tuner\n",
    "import keras_tuner as kt\n",
    "from keras_tuner import Hyperband\n",
    "from keras_tuner import RandomSearch\n",
    "plt.style.use('fivethirtyeight')\n",
    "import os"
   ]
  },
  {
   "cell_type": "code",
   "execution_count": 9,
   "metadata": {},
   "outputs": [
    {
     "name": "stdout",
     "output_type": "stream",
     "text": [
      "Folder created at: bitcoin\n",
      "Folder created at: bitcoin/lstm\n",
      "Folder created at: bitcoin/flstm\n"
     ]
    }
   ],
   "source": [
    "project_name = 'bitcoin'\n",
    "def count_folders(path):\n",
    "    try:\n",
    "        # List all items in the given directory\n",
    "        items = os.listdir(path)\n",
    "        \n",
    "        # Filter the list to include only directories\n",
    "        folders = [item for item in items if os.path.isdir(os.path.join(path, item))]\n",
    "        \n",
    "        # Count the number of directories\n",
    "        num_folders = len(folders)\n",
    "        \n",
    "        return num_folders\n",
    "    except FileNotFoundError:\n",
    "        return \"The specified path does not exist.\"\n",
    "    except PermissionError:\n",
    "        return \"You do not have permission to access this path.\"\n",
    "    except Exception as e:\n",
    "        return f\"An error occurred: {e}\"\n",
    "    \n",
    "def create_folder(path):\n",
    "    try:\n",
    "        # Create the directory\n",
    "        os.makedirs(path, exist_ok=True)\n",
    "        return f\"Folder created at: {path}\"\n",
    "    except PermissionError:\n",
    "        return \"You do not have permission to create a folder at this path.\"\n",
    "    except FileExistsError:\n",
    "        return \"The folder already exists.\"\n",
    "    except Exception as e:\n",
    "        return f\"An error occurred: {e}\"\n",
    "\n",
    "path_project = f\"{project_name}\"  \n",
    "print(create_folder(path_project))\n",
    "\n",
    "path_project_lstm = \"lstm\"\n",
    "path_lstm = os.path.join(project_name,path_project_lstm) \n",
    "print(create_folder(path_lstm))\n",
    "\n",
    "path_project_flstm = \"flstm\"\n",
    "path_flstm = os.path.join(project_name,path_project_flstm) \n",
    "print(create_folder(path_flstm))"
   ]
  },
  {
   "cell_type": "code",
   "execution_count": 11,
   "metadata": {},
   "outputs": [
    {
     "data": {
      "text/html": [
       "<div>\n",
       "<style scoped>\n",
       "    .dataframe tbody tr th:only-of-type {\n",
       "        vertical-align: middle;\n",
       "    }\n",
       "\n",
       "    .dataframe tbody tr th {\n",
       "        vertical-align: top;\n",
       "    }\n",
       "\n",
       "    .dataframe thead th {\n",
       "        text-align: right;\n",
       "    }\n",
       "</style>\n",
       "<table border=\"1\" class=\"dataframe\">\n",
       "  <thead>\n",
       "    <tr style=\"text-align: right;\">\n",
       "      <th></th>\n",
       "      <th>Timestamp</th>\n",
       "      <th>Open</th>\n",
       "      <th>High</th>\n",
       "      <th>Low</th>\n",
       "      <th>Close</th>\n",
       "      <th>Volume_(BTC)</th>\n",
       "      <th>Volume_(Currency)</th>\n",
       "      <th>Weighted_Price</th>\n",
       "    </tr>\n",
       "  </thead>\n",
       "  <tbody>\n",
       "    <tr>\n",
       "      <th>0</th>\n",
       "      <td>1325317920</td>\n",
       "      <td>4.39</td>\n",
       "      <td>4.39</td>\n",
       "      <td>4.39</td>\n",
       "      <td>4.39</td>\n",
       "      <td>0.455581</td>\n",
       "      <td>2.000000</td>\n",
       "      <td>4.390000</td>\n",
       "    </tr>\n",
       "    <tr>\n",
       "      <th>1</th>\n",
       "      <td>1325317980</td>\n",
       "      <td>NaN</td>\n",
       "      <td>NaN</td>\n",
       "      <td>NaN</td>\n",
       "      <td>NaN</td>\n",
       "      <td>NaN</td>\n",
       "      <td>NaN</td>\n",
       "      <td>NaN</td>\n",
       "    </tr>\n",
       "    <tr>\n",
       "      <th>2</th>\n",
       "      <td>1325318040</td>\n",
       "      <td>NaN</td>\n",
       "      <td>NaN</td>\n",
       "      <td>NaN</td>\n",
       "      <td>NaN</td>\n",
       "      <td>NaN</td>\n",
       "      <td>NaN</td>\n",
       "      <td>NaN</td>\n",
       "    </tr>\n",
       "    <tr>\n",
       "      <th>3</th>\n",
       "      <td>1325318100</td>\n",
       "      <td>NaN</td>\n",
       "      <td>NaN</td>\n",
       "      <td>NaN</td>\n",
       "      <td>NaN</td>\n",
       "      <td>NaN</td>\n",
       "      <td>NaN</td>\n",
       "      <td>NaN</td>\n",
       "    </tr>\n",
       "    <tr>\n",
       "      <th>4</th>\n",
       "      <td>1325318160</td>\n",
       "      <td>NaN</td>\n",
       "      <td>NaN</td>\n",
       "      <td>NaN</td>\n",
       "      <td>NaN</td>\n",
       "      <td>NaN</td>\n",
       "      <td>NaN</td>\n",
       "      <td>NaN</td>\n",
       "    </tr>\n",
       "    <tr>\n",
       "      <th>...</th>\n",
       "      <td>...</td>\n",
       "      <td>...</td>\n",
       "      <td>...</td>\n",
       "      <td>...</td>\n",
       "      <td>...</td>\n",
       "      <td>...</td>\n",
       "      <td>...</td>\n",
       "      <td>...</td>\n",
       "    </tr>\n",
       "    <tr>\n",
       "      <th>4857372</th>\n",
       "      <td>1617148560</td>\n",
       "      <td>58714.31</td>\n",
       "      <td>58714.31</td>\n",
       "      <td>58686.00</td>\n",
       "      <td>58686.00</td>\n",
       "      <td>1.384487</td>\n",
       "      <td>81259.372187</td>\n",
       "      <td>58692.753339</td>\n",
       "    </tr>\n",
       "    <tr>\n",
       "      <th>4857373</th>\n",
       "      <td>1617148620</td>\n",
       "      <td>58683.97</td>\n",
       "      <td>58693.43</td>\n",
       "      <td>58683.97</td>\n",
       "      <td>58685.81</td>\n",
       "      <td>7.294848</td>\n",
       "      <td>428158.146640</td>\n",
       "      <td>58693.226508</td>\n",
       "    </tr>\n",
       "    <tr>\n",
       "      <th>4857374</th>\n",
       "      <td>1617148680</td>\n",
       "      <td>58693.43</td>\n",
       "      <td>58723.84</td>\n",
       "      <td>58693.43</td>\n",
       "      <td>58723.84</td>\n",
       "      <td>1.705682</td>\n",
       "      <td>100117.070370</td>\n",
       "      <td>58696.198496</td>\n",
       "    </tr>\n",
       "    <tr>\n",
       "      <th>4857375</th>\n",
       "      <td>1617148740</td>\n",
       "      <td>58742.18</td>\n",
       "      <td>58770.38</td>\n",
       "      <td>58742.18</td>\n",
       "      <td>58760.59</td>\n",
       "      <td>0.720415</td>\n",
       "      <td>42332.958633</td>\n",
       "      <td>58761.866202</td>\n",
       "    </tr>\n",
       "    <tr>\n",
       "      <th>4857376</th>\n",
       "      <td>1617148800</td>\n",
       "      <td>58767.75</td>\n",
       "      <td>58778.18</td>\n",
       "      <td>58755.97</td>\n",
       "      <td>58778.18</td>\n",
       "      <td>2.712831</td>\n",
       "      <td>159417.751000</td>\n",
       "      <td>58764.349363</td>\n",
       "    </tr>\n",
       "  </tbody>\n",
       "</table>\n",
       "<p>4857377 rows × 8 columns</p>\n",
       "</div>"
      ],
      "text/plain": [
       "          Timestamp      Open      High       Low     Close  Volume_(BTC)  \\\n",
       "0        1325317920      4.39      4.39      4.39      4.39      0.455581   \n",
       "1        1325317980       NaN       NaN       NaN       NaN           NaN   \n",
       "2        1325318040       NaN       NaN       NaN       NaN           NaN   \n",
       "3        1325318100       NaN       NaN       NaN       NaN           NaN   \n",
       "4        1325318160       NaN       NaN       NaN       NaN           NaN   \n",
       "...             ...       ...       ...       ...       ...           ...   \n",
       "4857372  1617148560  58714.31  58714.31  58686.00  58686.00      1.384487   \n",
       "4857373  1617148620  58683.97  58693.43  58683.97  58685.81      7.294848   \n",
       "4857374  1617148680  58693.43  58723.84  58693.43  58723.84      1.705682   \n",
       "4857375  1617148740  58742.18  58770.38  58742.18  58760.59      0.720415   \n",
       "4857376  1617148800  58767.75  58778.18  58755.97  58778.18      2.712831   \n",
       "\n",
       "         Volume_(Currency)  Weighted_Price  \n",
       "0                 2.000000        4.390000  \n",
       "1                      NaN             NaN  \n",
       "2                      NaN             NaN  \n",
       "3                      NaN             NaN  \n",
       "4                      NaN             NaN  \n",
       "...                    ...             ...  \n",
       "4857372       81259.372187    58692.753339  \n",
       "4857373      428158.146640    58693.226508  \n",
       "4857374      100117.070370    58696.198496  \n",
       "4857375       42332.958633    58761.866202  \n",
       "4857376      159417.751000    58764.349363  \n",
       "\n",
       "[4857377 rows x 8 columns]"
      ]
     },
     "execution_count": 11,
     "metadata": {},
     "output_type": "execute_result"
    }
   ],
   "source": [
    "df = pd.read_csv('data/bitstampUSD_1-min_data_2012-01-01_to_2021-03-31.csv')\n",
    "df"
   ]
  },
  {
   "cell_type": "code",
   "execution_count": 4,
   "metadata": {
    "colab": {
     "base_uri": "https://localhost:8080/",
     "height": 424
    },
    "id": "_E_ZJmnlhfQR",
    "outputId": "9c70512b-ddac-4ddd-a6e3-72671302505d"
   },
   "outputs": [
    {
     "data": {
      "text/html": [
       "<div>\n",
       "<style scoped>\n",
       "    .dataframe tbody tr th:only-of-type {\n",
       "        vertical-align: middle;\n",
       "    }\n",
       "\n",
       "    .dataframe tbody tr th {\n",
       "        vertical-align: top;\n",
       "    }\n",
       "\n",
       "    .dataframe thead th {\n",
       "        text-align: right;\n",
       "    }\n",
       "</style>\n",
       "<table border=\"1\" class=\"dataframe\">\n",
       "  <thead>\n",
       "    <tr style=\"text-align: right;\">\n",
       "      <th></th>\n",
       "      <th>Open</th>\n",
       "      <th>High</th>\n",
       "      <th>Low</th>\n",
       "      <th>Close</th>\n",
       "      <th>Volume_(BTC)</th>\n",
       "      <th>Volume_(Currency)</th>\n",
       "      <th>Weighted_Price</th>\n",
       "    </tr>\n",
       "    <tr>\n",
       "      <th>Timestamp</th>\n",
       "      <th></th>\n",
       "      <th></th>\n",
       "      <th></th>\n",
       "      <th></th>\n",
       "      <th></th>\n",
       "      <th></th>\n",
       "      <th></th>\n",
       "    </tr>\n",
       "  </thead>\n",
       "  <tbody>\n",
       "    <tr>\n",
       "      <th>2011-12-31 07:52:00</th>\n",
       "      <td>4.39</td>\n",
       "      <td>4.39</td>\n",
       "      <td>4.39</td>\n",
       "      <td>4.39</td>\n",
       "      <td>0.455581</td>\n",
       "      <td>2.000000</td>\n",
       "      <td>4.390000</td>\n",
       "    </tr>\n",
       "    <tr>\n",
       "      <th>2011-12-31 08:07:00</th>\n",
       "      <td>4.39</td>\n",
       "      <td>4.39</td>\n",
       "      <td>4.39</td>\n",
       "      <td>4.39</td>\n",
       "      <td>1.947561</td>\n",
       "      <td>8.549791</td>\n",
       "      <td>4.390000</td>\n",
       "    </tr>\n",
       "    <tr>\n",
       "      <th>2011-12-31 08:22:00</th>\n",
       "      <td>4.39</td>\n",
       "      <td>4.39</td>\n",
       "      <td>4.39</td>\n",
       "      <td>4.39</td>\n",
       "      <td>3.439540</td>\n",
       "      <td>15.099582</td>\n",
       "      <td>4.390000</td>\n",
       "    </tr>\n",
       "    <tr>\n",
       "      <th>2011-12-31 08:37:00</th>\n",
       "      <td>4.39</td>\n",
       "      <td>4.39</td>\n",
       "      <td>4.39</td>\n",
       "      <td>4.39</td>\n",
       "      <td>4.931520</td>\n",
       "      <td>21.649372</td>\n",
       "      <td>4.390000</td>\n",
       "    </tr>\n",
       "    <tr>\n",
       "      <th>2011-12-31 08:52:00</th>\n",
       "      <td>4.39</td>\n",
       "      <td>4.39</td>\n",
       "      <td>4.39</td>\n",
       "      <td>4.39</td>\n",
       "      <td>6.423500</td>\n",
       "      <td>28.199163</td>\n",
       "      <td>4.390000</td>\n",
       "    </tr>\n",
       "    <tr>\n",
       "      <th>...</th>\n",
       "      <td>...</td>\n",
       "      <td>...</td>\n",
       "      <td>...</td>\n",
       "      <td>...</td>\n",
       "      <td>...</td>\n",
       "      <td>...</td>\n",
       "      <td>...</td>\n",
       "    </tr>\n",
       "    <tr>\n",
       "      <th>2021-03-30 22:59:00</th>\n",
       "      <td>58697.28</td>\n",
       "      <td>58722.57</td>\n",
       "      <td>58697.02</td>\n",
       "      <td>58711.15</td>\n",
       "      <td>0.442424</td>\n",
       "      <td>25971.603997</td>\n",
       "      <td>58702.947498</td>\n",
       "    </tr>\n",
       "    <tr>\n",
       "      <th>2021-03-30 23:14:00</th>\n",
       "      <td>58681.96</td>\n",
       "      <td>58733.62</td>\n",
       "      <td>58681.96</td>\n",
       "      <td>58733.62</td>\n",
       "      <td>0.018962</td>\n",
       "      <td>1113.461559</td>\n",
       "      <td>58721.424522</td>\n",
       "    </tr>\n",
       "    <tr>\n",
       "      <th>2021-03-30 23:29:00</th>\n",
       "      <td>58737.12</td>\n",
       "      <td>58748.45</td>\n",
       "      <td>58727.63</td>\n",
       "      <td>58748.45</td>\n",
       "      <td>0.705325</td>\n",
       "      <td>41433.711630</td>\n",
       "      <td>58744.180682</td>\n",
       "    </tr>\n",
       "    <tr>\n",
       "      <th>2021-03-30 23:44:00</th>\n",
       "      <td>58599.78</td>\n",
       "      <td>58600.00</td>\n",
       "      <td>58599.78</td>\n",
       "      <td>58600.00</td>\n",
       "      <td>3.000086</td>\n",
       "      <td>175805.057640</td>\n",
       "      <td>58599.999957</td>\n",
       "    </tr>\n",
       "    <tr>\n",
       "      <th>2021-03-30 23:59:00</th>\n",
       "      <td>58742.18</td>\n",
       "      <td>58770.38</td>\n",
       "      <td>58742.18</td>\n",
       "      <td>58760.59</td>\n",
       "      <td>0.720415</td>\n",
       "      <td>42332.958633</td>\n",
       "      <td>58761.866202</td>\n",
       "    </tr>\n",
       "  </tbody>\n",
       "</table>\n",
       "<p>323826 rows × 7 columns</p>\n",
       "</div>"
      ],
      "text/plain": [
       "                         Open      High       Low     Close  Volume_(BTC)  \\\n",
       "Timestamp                                                                   \n",
       "2011-12-31 07:52:00      4.39      4.39      4.39      4.39      0.455581   \n",
       "2011-12-31 08:07:00      4.39      4.39      4.39      4.39      1.947561   \n",
       "2011-12-31 08:22:00      4.39      4.39      4.39      4.39      3.439540   \n",
       "2011-12-31 08:37:00      4.39      4.39      4.39      4.39      4.931520   \n",
       "2011-12-31 08:52:00      4.39      4.39      4.39      4.39      6.423500   \n",
       "...                       ...       ...       ...       ...           ...   \n",
       "2021-03-30 22:59:00  58697.28  58722.57  58697.02  58711.15      0.442424   \n",
       "2021-03-30 23:14:00  58681.96  58733.62  58681.96  58733.62      0.018962   \n",
       "2021-03-30 23:29:00  58737.12  58748.45  58727.63  58748.45      0.705325   \n",
       "2021-03-30 23:44:00  58599.78  58600.00  58599.78  58600.00      3.000086   \n",
       "2021-03-30 23:59:00  58742.18  58770.38  58742.18  58760.59      0.720415   \n",
       "\n",
       "                     Volume_(Currency)  Weighted_Price  \n",
       "Timestamp                                               \n",
       "2011-12-31 07:52:00           2.000000        4.390000  \n",
       "2011-12-31 08:07:00           8.549791        4.390000  \n",
       "2011-12-31 08:22:00          15.099582        4.390000  \n",
       "2011-12-31 08:37:00          21.649372        4.390000  \n",
       "2011-12-31 08:52:00          28.199163        4.390000  \n",
       "...                                ...             ...  \n",
       "2021-03-30 22:59:00       25971.603997    58702.947498  \n",
       "2021-03-30 23:14:00        1113.461559    58721.424522  \n",
       "2021-03-30 23:29:00       41433.711630    58744.180682  \n",
       "2021-03-30 23:44:00      175805.057640    58599.999957  \n",
       "2021-03-30 23:59:00       42332.958633    58761.866202  \n",
       "\n",
       "[323826 rows x 7 columns]"
      ]
     },
     "execution_count": 4,
     "metadata": {},
     "output_type": "execute_result"
    }
   ],
   "source": [
    "df['Timestamp'] = pd.to_datetime(df['Timestamp'], unit='s')\n",
    "df.set_index('Timestamp', inplace=True)\n",
    "df1=df.interpolate()\n",
    "df1=df1.iloc[::15]\n",
    "df1"
   ]
  },
  {
   "cell_type": "code",
   "execution_count": 5,
   "metadata": {
    "id": "I3z9soZ6YjU_"
   },
   "outputs": [
    {
     "data": {
      "image/png": "[encoded data removed]",
      "text/plain": [
       "<Figure size 1600x800 with 1 Axes>"
      ]
     },
     "metadata": {},
     "output_type": "display_data"
    }
   ],
   "source": [
    "plt.figure(figsize=(16,8))\n",
    "plt.title('Price History')\n",
    "plt.plot(df1['Close'])\n",
    "plt.xlabel('DATE')\n",
    "plt.ylabel('PRICE USD')\n",
    "plt.show()"
   ]
  },
  {
   "cell_type": "code",
   "execution_count": 6,
   "metadata": {
    "colab": {
     "base_uri": "https://localhost:8080/"
    },
    "id": "PuGmMshBYm1M",
    "outputId": "b1c4c165-c7af-4d49-b102-256b5a086d19"
   },
   "outputs": [
    {
     "data": {
      "text/plain": [
       "array([[4.39000000e+00, 4.55580870e-01],\n",
       "       [4.39000000e+00, 1.94756055e+00],\n",
       "       [4.39000000e+00, 3.43954023e+00],\n",
       "       ...,\n",
       "       [5.87484500e+04, 7.05324530e-01],\n",
       "       [5.86000000e+04, 3.00008631e+00],\n",
       "       [5.87605900e+04, 7.20415490e-01]])"
      ]
     },
     "execution_count": 6,
     "metadata": {},
     "output_type": "execute_result"
    }
   ],
   "source": [
    "data=df1.filter(['Close','Volume_(BTC)'])\n",
    "dataset=data.values\n",
    "dataset"
   ]
  },
  {
   "cell_type": "code",
   "execution_count": 7,
   "metadata": {
    "colab": {
     "base_uri": "https://localhost:8080/"
    },
    "id": "d1gh3QUXYuO0",
    "outputId": "264c2d2e-31e7-42a9-d787-63a212ffbdb4"
   },
   "outputs": [
    {
     "data": {
      "text/plain": [
       "array([[8.62844749e-06, 1.00218106e-04],\n",
       "       [8.62844749e-06, 4.28421916e-04],\n",
       "       [8.62844749e-06, 7.56625726e-04],\n",
       "       ...,\n",
       "       [9.53283819e-01, 1.55156401e-04],\n",
       "       [9.50874831e-01, 6.59955206e-04],\n",
       "       [9.53480822e-01, 1.58476092e-04]])"
      ]
     },
     "execution_count": 7,
     "metadata": {},
     "output_type": "execute_result"
    }
   ],
   "source": [
    "training_data_len=math.ceil(len(dataset)*0.80)\n",
    "scaler=MinMaxScaler(feature_range=(0,1))\n",
    "scaled_data=scaler.fit_transform(dataset)\n",
    "training_data=scaled_data[0:training_data_len , :]\n",
    "\n",
    "scaled_data"
   ]
  },
  {
   "cell_type": "code",
   "execution_count": 8,
   "metadata": {
    "id": "b6F-3X1dYxS0"
   },
   "outputs": [],
   "source": [
    "xtrain=[]\n",
    "ytrain=[]\n",
    "n=60\n",
    "\n",
    "# Data Shape:\n",
    "# (samples , timesteps, features)\n",
    "\n",
    "\n",
    "for i in range(n,len(training_data)):\n",
    "    xtrain.append(training_data[i-n:i , :])\n",
    "    ytrain.append(training_data[i,0])\n",
    "\n",
    "xtrain , ytrain = np.array(xtrain),np.array(ytrain)\n",
    "ytrain=np.reshape(ytrain , (ytrain.shape[0],1,1))\n"
   ]
  },
  {
   "cell_type": "code",
   "execution_count": 9,
   "metadata": {},
   "outputs": [
    {
     "data": {
      "text/plain": [
       "array([[[8.62844749e-06, 1.00218106e-04],\n",
       "        [8.62844749e-06, 4.28421916e-04],\n",
       "        [8.62844749e-06, 7.56625726e-04],\n",
       "        ...,\n",
       "        [1.17116918e-05, 1.23074656e-03],\n",
       "        [1.17116918e-05, 1.19414743e-03],\n",
       "        [1.17116918e-05, 1.15754831e-03]],\n",
       "\n",
       "       [[8.62844749e-06, 4.28421916e-04],\n",
       "        [8.62844749e-06, 7.56625726e-04],\n",
       "        [8.62844749e-06, 1.08482954e-03],\n",
       "        ...,\n",
       "        [1.17116918e-05, 1.19414743e-03],\n",
       "        [1.17116918e-05, 1.15754831e-03],\n",
       "        [1.17116918e-05, 1.12094918e-03]],\n",
       "\n",
       "       [[8.62844749e-06, 7.56625726e-04],\n",
       "        [8.62844749e-06, 1.08482954e-03],\n",
       "        [8.62844749e-06, 1.41303335e-03],\n",
       "        ...,\n",
       "        [1.17116918e-05, 1.15754831e-03],\n",
       "        [1.17116918e-05, 1.12094918e-03],\n",
       "        [1.17116918e-05, 1.08435005e-03]],\n",
       "\n",
       "       ...,\n",
       "\n",
       "       [[1.30331684e-01, 9.06846517e-06],\n",
       "        [1.30271966e-01, 1.50878860e-03],\n",
       "        [1.30651043e-01, 3.98359434e-05],\n",
       "        ...,\n",
       "        [1.29560061e-01, 3.35494416e-06],\n",
       "        [1.29971107e-01, 5.23902495e-04],\n",
       "        [1.29787897e-01, 9.31201186e-04]],\n",
       "\n",
       "       [[1.30271966e-01, 1.50878860e-03],\n",
       "        [1.30651043e-01, 3.98359434e-05],\n",
       "        [1.30767557e-01, 2.48381631e-04],\n",
       "        ...,\n",
       "        [1.29971107e-01, 5.23902495e-04],\n",
       "        [1.29787897e-01, 9.31201186e-04],\n",
       "        [1.30006807e-01, 4.94223793e-05]],\n",
       "\n",
       "       [[1.30651043e-01, 3.98359434e-05],\n",
       "        [1.30767557e-01, 2.48381631e-04],\n",
       "        [1.31066470e-01, 1.09989370e-05],\n",
       "        ...,\n",
       "        [1.29787897e-01, 9.31201186e-04],\n",
       "        [1.30006807e-01, 4.94223793e-05],\n",
       "        [1.29797309e-01, 2.37079469e-05]]])"
      ]
     },
     "execution_count": 9,
     "metadata": {},
     "output_type": "execute_result"
    }
   ],
   "source": [
    "xtrain"
   ]
  },
  {
   "cell_type": "code",
   "execution_count": 10,
   "metadata": {},
   "outputs": [
    {
     "data": {
      "text/plain": [
       "array([[[1.17116918e-05]],\n",
       "\n",
       "       [[1.17116918e-05]],\n",
       "\n",
       "       [[1.17116918e-05]],\n",
       "\n",
       "       ...,\n",
       "\n",
       "       [[1.30006807e-01]],\n",
       "\n",
       "       [[1.29797309e-01]],\n",
       "\n",
       "       [[1.29827979e-01]]])"
      ]
     },
     "execution_count": 10,
     "metadata": {},
     "output_type": "execute_result"
    }
   ],
   "source": [
    "ytrain"
   ]
  },
  {
   "cell_type": "code",
   "execution_count": 11,
   "metadata": {},
   "outputs": [],
   "source": [
    "\n",
    "class CustomLSTMCell(tf.keras.layers.Layer):\n",
    "    def __init__(self, units, activation='tanh', recurrent_activation='sigmoid', use_bias=True, recurrent_dropout=0.0, **kwargs):\n",
    "        super(CustomLSTMCell, self).__init__(**kwargs)\n",
    "        self.units = units\n",
    "        self.activation = tf.keras.activations.get(activation)\n",
    "        self.recurrent_activation = tf.keras.activations.get(recurrent_activation)\n",
    "        self.use_bias = use_bias\n",
    "        self.recurrent_dropout = recurrent_dropout\n",
    "\n",
    "    def build(self, input_shape):\n",
    "        self.input_dim = input_shape[-1] # features number\n",
    "        \n",
    "        self.W_f = self.add_weight(shape=(self.input_dim + self.units, self.units), initializer='random_normal', name='W_f')\n",
    "        self.b_f = self.add_weight(shape=(self.units,), initializer='zeros', name='b_f') if self.use_bias else None\n",
    "        \n",
    "        self.W_i = self.add_weight(shape=(self.input_dim + self.units, self.units), initializer='random_normal', name='W_i')\n",
    "        self.b_i = self.add_weight(shape=(self.units,), initializer='zeros', name='b_i') if self.use_bias else None\n",
    "        \n",
    "        self.W_c = self.add_weight(shape=(self.input_dim + self.units, self.units), initializer='random_normal', name='W_c')\n",
    "        self.b_c = self.add_weight(shape=(self.units,), initializer='zeros', name='b_c') if self.use_bias else None\n",
    "        \n",
    "        self.W_o = self.add_weight(shape=(self.input_dim + self.units, self.units), initializer='random_normal', name='W_o')\n",
    "        self.b_o = self.add_weight(shape=(self.units,), initializer='zeros', name='b_o') if self.use_bias else None\n",
    "\n",
    "        self.W_s = self.add_weight(shape=(self.input_dim + self.units, self.units), initializer='random_normal', name='W_s')\n",
    "        self.b_s = self.add_weight(shape=(self.units,), initializer='zeros', name='b_s') if self.use_bias else None\n",
    "\n",
    "        self.W_ff = self.add_weight(shape=(self.units, self.units), initializer='random_normal', name='W_ff')\n",
    "        self.b_ff = self.add_weight(shape=(self.units,), initializer='zeros', name='b_ff') if self.use_bias else None\n",
    "        \n",
    "        self.W_fe = self.add_weight(shape=(self.units, self.units), initializer='random_normal', name='W_fe')\n",
    "        self.b_fe = self.add_weight(shape=(self.units,), initializer='zeros', name='b_fe') if self.use_bias else None\n",
    "        \n",
    "        self.W_z = self.add_weight(shape=(self.units, self.units), initializer='random_normal', name='W_z')\n",
    "        self.b_z = self.add_weight(shape=(self.units,), initializer='zeros', name='b_z') if self.use_bias else None\n",
    "        \n",
    "        self.W_B = self.add_weight(shape=(self.input_dim + self.units, self.units), initializer='random_normal', name='W_B')\n",
    "        self.b_B = self.add_weight(shape=(self.units,), initializer='zeros', name='b_B') if self.use_bias else None\n",
    "        \n",
    "        \n",
    "\n",
    "    def call(self, inputs, states, training=None):\n",
    "        h_t, c_t, fe_t = states\n",
    "        if 0 < self.recurrent_dropout < 1 and training:\n",
    "            h_t = tf.nn.dropout(h_t, rate=self.recurrent_dropout)\n",
    "        \n",
    "        # print(inputs)\n",
    "        # print(f'h_t.shape={h_t.shape}')\n",
    "        # print(f'fe_t.shape={fe_t.shape}')\n",
    "        # print(f'c_t.shape={c_t.shape}')\n",
    "        # print(f'self.w_s.shape={self.W_s.shape}')\n",
    "        concat_h_t = tf.concat([inputs, h_t], axis=-1)\n",
    "        concat_fe_t = tf.concat([inputs, fe_t], axis=-1)\n",
    "        concat_c_t = tf.concat([inputs, c_t], axis=-1)\n",
    "        fe_hat = tf.matmul(concat_fe_t,self.W_s) + (self.b_s if self.use_bias else 0)\n",
    "        fe_h= fe_hat + tf.matmul(concat_h_t,(1-self.W_s))+ (self.b_s if self.use_bias else 0)\n",
    "        \n",
    "        # print(f'fe_h_hat.shape={fe_h.shape}')\n",
    "        # print('cell_here4')\n",
    "\n",
    "        B_hat= tf.matmul(concat_c_t, self.W_B) + (self.b_B if self.use_bias else 0)\n",
    "        f_t = self.recurrent_activation(tf.matmul(concat_h_t, self.W_f) + (self.b_f if self.use_bias else 0))\n",
    "        i_t = self.recurrent_activation(tf.matmul(concat_h_t, self.W_i) + (self.b_i if self.use_bias else 0))\n",
    "        c_hat_t = self.activation(tf.matmul(concat_h_t, self.W_c) + (self.b_c if self.use_bias else 0))\n",
    "        o_t = self.recurrent_activation(tf.matmul(concat_h_t, self.W_o) + (self.b_o if self.use_bias else 0))\n",
    "        # print('cell_here6')\n",
    "        # print(B_hat)\n",
    "        fe_1 = self.recurrent_activation(tf.matmul(B_hat,self.W_z) + (self.b_z if self.use_bias else 0))\n",
    "        fe_2 = self.activation(tf.matmul(B_hat,self.W_fe) + (self.b_fe if self.use_bias else 0))\n",
    "        # print('cell_here8')\n",
    "        # print(f'fe_1{fe_1}')\n",
    "        # print(f'fe_2{fe_2}')\n",
    "\n",
    "        fe_f = tf.matmul(f_t, self.W_ff) + (self.b_ff if self.use_bias else 0)\n",
    "\n",
    "        # print('code_here9')\n",
    "        c_t_next = f_t * c_t + i_t * c_hat_t\n",
    "        h_t_next = o_t * self.activation(c_t_next)\n",
    "        # print('code_here10')\n",
    "        fe_1_2=fe_1 * fe_2\n",
    "        fe_ff = fe_t * fe_f\n",
    "        # print ('code_here 11')\n",
    "        # print (fe_1_2 ,fe_ff)\n",
    "        fe_t_next=fe_1_2+fe_ff\n",
    "        \n",
    "        return h_t_next, [h_t_next, c_t_next, fe_t_next]\n",
    "    \n",
    "\n",
    "    def get_config(self):\n",
    "        config = super(CustomLSTMCell, self).get_config()\n",
    "        config.update({\n",
    "            'units': self.units,\n",
    "            'activation': tf.keras.activations.serialize(self.activation),\n",
    "            'recurrent_activation': tf.keras.activations.serialize(self.recurrent_activation),\n",
    "            'use_bias': self.use_bias,\n",
    "            'recurrent_dropout': self.recurrent_dropout,\n",
    "        })\n",
    "        return config\n",
    "\n",
    "\n",
    "class CustomLSTM(tf.keras.layers.Layer):\n",
    "    def __init__(self, units, activation='tanh', recurrent_activation='sigmoid', use_bias=True, return_sequences=False, return_state=False, recurrent_dropout=0.0, unroll=False, **kwargs):\n",
    "        super(CustomLSTM, self).__init__(**kwargs)\n",
    "        self.units = units\n",
    "        self.return_sequences = return_sequences\n",
    "        self.return_state = return_state\n",
    "        self.unroll = unroll\n",
    "        self.cell = CustomLSTMCell(units, activation=activation, recurrent_activation=recurrent_activation, use_bias=use_bias, recurrent_dropout=recurrent_dropout)\n",
    "        \n",
    "    def call(self, inputs, training=None):\n",
    "        batch_size = tf.shape(inputs)[0]\n",
    "        seq_length = tf.shape(inputs)[1]\n",
    "        \n",
    "        h_t = tf.zeros((batch_size, self.units))\n",
    "        c_t = tf.zeros((batch_size, self.units))\n",
    "        fe_t = tf.zeros((batch_size, self.units))\n",
    "        \n",
    "        states = [h_t, c_t, fe_t]\n",
    "        \n",
    "        inputs_transposed = tf.transpose(inputs, [1, 0, 2])\n",
    "        \n",
    "        def step(prev_states, x_t):\n",
    "            \n",
    "            h_t, c_t, fe_t = prev_states\n",
    "            \n",
    "            h_t, [h_t, c_t, fe_t] = self.cell(x_t, [h_t, c_t, fe_t], training=training)\n",
    "            \n",
    "            return [h_t, c_t, fe_t]\n",
    "\n",
    "        if self.unroll:\n",
    "            # Unroll the loop manually if unroll=True\n",
    "            outputs = []\n",
    "            for i in range(seq_length):\n",
    "                states = step(states, inputs_transposed[i])\n",
    "                outputs.append(states[0])\n",
    "            outputs = tf.stack(outputs, axis=0)\n",
    "            \n",
    "        else:\n",
    "            states = tf.scan(step, inputs_transposed, initializer=states, parallel_iterations=1)\n",
    "            outputs = states[0]\n",
    "            \n",
    "        \n",
    "        outputs = tf.transpose(outputs, [1, 0, 2])\n",
    "        \n",
    "        final_states = [states[0][-1], states[1][-1]]\n",
    "        \n",
    "        if self.return_sequences:\n",
    "            if self.return_state:\n",
    "                return outputs, final_states\n",
    "            return outputs\n",
    "        \n",
    "        if self.return_state:\n",
    "            return outputs[:, -1, :], final_states\n",
    "        return outputs[:, -1, :]\n",
    "    \n",
    "    def get_config(self):\n",
    "        config = super(CustomLSTM, self).get_config()\n",
    "        config.update({\n",
    "            'units': self.units,\n",
    "            'activation': tf.keras.activations.serialize(self.cell.activation),\n",
    "            'recurrent_activation': tf.keras.activations.serialize(self.cell.recurrent_activation),\n",
    "            'use_bias': self.cell.use_bias,\n",
    "            'return_sequences': self.return_sequences,\n",
    "            'return_state': self.return_state,\n",
    "            'recurrent_dropout': self.cell.recurrent_dropout,\n",
    "            'unroll': self.unroll,\n",
    "        })\n",
    "        return config\n"
   ]
  },
  {
   "cell_type": "code",
   "execution_count": null,
   "metadata": {},
   "outputs": [],
   "source": [
    "path = f'{project_name}/flstm'    \n",
    "\n",
    "checkpoint_cb = ModelCheckpoint(\n",
    "    filepath= f\"{path}/model_epoch_{{epoch:02d}}_val_loss_{{val_loss:.2f}}.h5\",\n",
    "    save_best_only=True,\n",
    "    monitor='val_mse',  # Change 'val_loss' to the primary metric you want to monitor\n",
    "    mode='min'\n",
    ")\n",
    "\n",
    "inputs = tf.keras.Input(shape=(xtrain.shape[1],xtrain.shape[2]))\n",
    "x = CustomLSTM(320, return_sequences=True)(inputs)\n",
    "x = CustomLSTM(320)(x)\n",
    "model_flstm = tf.keras.Model(inputs, x)\n",
    "model_flstm.summary()\n",
    "model_flstm.compile(optimizer='adam', loss='mse', metrics=['mae','mape','mse','msle','cosine_similarity'])\n",
    "history_flstm=model_flstm.fit(xtrain,ytrain,batch_size=1024,epochs=7,validation_split=0.1, callbacks=[checkpoint_cb])\n",
    "# Save the training history to a JSON file\n",
    "with open(f'{path}/training_history.json', 'w') as f:\n",
    "    json.dump(history_flstm.history, f)\n",
    "count = count_folders(path)\n",
    "model_flstm.save(f'{path}/MODEL_{count}.tf')"
   ]
  },
  {
   "cell_type": "code",
   "execution_count": null,
   "metadata": {},
   "outputs": [],
   "source": [
    "path = f'{project_name}/lstm'    \n",
    "\n",
    "# Define the ModelCheckpoint callback\n",
    "checkpoint_cb = ModelCheckpoint(\n",
    "    filepath=f\"{path}/model_epoch_{{epoch:02d}}_val_loss_{{val_loss:.2f}}.h5\",\n",
    "    save_best_only=True,\n",
    "    monitor='val_mse',\n",
    "    mode='min'\n",
    ")\n",
    "\n",
    "inputs = tf.keras.Input(shape=(xtrain.shape[1],xtrain.shape[2]))\n",
    "x = LSTM(320, return_sequences=True)(inputs)\n",
    "x = LSTM(320)(x)\n",
    "model_lstm = tf.keras.Model(inputs, x)\n",
    "model_lstm.summary()\n",
    "model_lstm.compile(optimizer='adam', loss='mse', metrics=['mae','mape','mse','msle','cosine_similarity'])\n",
    "history_lstm=model_lstm.fit(xtrain,ytrain,batch_size=1024,epochs=7,validation_split=0.1, callbacks=[checkpoint_cb])\n",
    "# Save the training history to a JSON file\n",
    "with open(f'{path}/training_history.json', 'w') as f:\n",
    "    json.dump(history_lstm.history, f)\n",
    "    \n",
    "count = count_folders(path)\n",
    "model_lstm.save(f'{path}/MODEL_{count}.tf')"
   ]
  },
  {
   "cell_type": "code",
   "execution_count": 12,
   "metadata": {
    "id": "V901xggFSdSY"
   },
   "outputs": [
    {
     "name": "stderr",
     "output_type": "stream",
     "text": [
      "2024-06-01 18:31:02.100601: I tensorflow/stream_executor/cuda/cuda_gpu_executor.cc:980] successful NUMA node read from SysFS had negative value (-1), but there must be at least one NUMA node, so returning NUMA node zero\n",
      "2024-06-01 18:31:02.118472: I tensorflow/stream_executor/cuda/cuda_gpu_executor.cc:980] successful NUMA node read from SysFS had negative value (-1), but there must be at least one NUMA node, so returning NUMA node zero\n",
      "2024-06-01 18:31:02.118610: I tensorflow/stream_executor/cuda/cuda_gpu_executor.cc:980] successful NUMA node read from SysFS had negative value (-1), but there must be at least one NUMA node, so returning NUMA node zero\n",
      "2024-06-01 18:31:02.119001: I tensorflow/core/platform/cpu_feature_guard.cc:193] This TensorFlow binary is optimized with oneAPI Deep Neural Network Library (oneDNN) to use the following CPU instructions in performance-critical operations:  AVX2 AVX_VNNI FMA\n",
      "To enable them in other operations, rebuild TensorFlow with the appropriate compiler flags.\n",
      "2024-06-01 18:31:02.120233: I tensorflow/stream_executor/cuda/cuda_gpu_executor.cc:980] successful NUMA node read from SysFS had negative value (-1), but there must be at least one NUMA node, so returning NUMA node zero\n",
      "2024-06-01 18:31:02.120410: I tensorflow/stream_executor/cuda/cuda_gpu_executor.cc:980] successful NUMA node read from SysFS had negative value (-1), but there must be at least one NUMA node, so returning NUMA node zero\n",
      "2024-06-01 18:31:02.120492: I tensorflow/stream_executor/cuda/cuda_gpu_executor.cc:980] successful NUMA node read from SysFS had negative value (-1), but there must be at least one NUMA node, so returning NUMA node zero\n",
      "2024-06-01 18:31:02.177394: I tensorflow/stream_executor/cuda/cuda_gpu_executor.cc:980] successful NUMA node read from SysFS had negative value (-1), but there must be at least one NUMA node, so returning NUMA node zero\n",
      "2024-06-01 18:31:02.177481: I tensorflow/stream_executor/cuda/cuda_gpu_executor.cc:980] successful NUMA node read from SysFS had negative value (-1), but there must be at least one NUMA node, so returning NUMA node zero\n",
      "2024-06-01 18:31:02.177529: I tensorflow/stream_executor/cuda/cuda_gpu_executor.cc:980] successful NUMA node read from SysFS had negative value (-1), but there must be at least one NUMA node, so returning NUMA node zero\n",
      "2024-06-01 18:31:02.177582: I tensorflow/core/common_runtime/gpu/gpu_device.cc:1616] Created device /job:localhost/replica:0/task:0/device:GPU:0 with 20778 MB memory:  -> device: 0, name: NVIDIA GeForce RTX 3090, pci bus id: 0000:01:00.0, compute capability: 8.6\n"
     ]
    },
    {
     "name": "stdout",
     "output_type": "stream",
     "text": [
      "********************************lstm\n",
      "Model: \"sequential_2\"\n",
      "_________________________________________________________________\n",
      " Layer (type)                Output Shape              Param #   \n",
      "=================================================================\n",
      " lstm_8 (LSTM)               (None, 60, 64)            17152     \n",
      "                                                                 \n",
      " dropout_11 (Dropout)        (None, 60, 64)            0         \n",
      "                                                                 \n",
      " lstm_9 (LSTM)               (None, 60, 448)           919296    \n",
      "                                                                 \n",
      " dropout_12 (Dropout)        (None, 60, 448)           0         \n",
      "                                                                 \n",
      " lstm_10 (LSTM)              (None, 64)                131328    \n",
      "                                                                 \n",
      " dropout_13 (Dropout)        (None, 64)                0         \n",
      "                                                                 \n",
      " dense_5 (Dense)             (None, 768)               49920     \n",
      "                                                                 \n",
      " dropout_14 (Dropout)        (None, 768)               0         \n",
      "                                                                 \n",
      " dense_6 (Dense)             (None, 416)               319904    \n",
      "                                                                 \n",
      " dropout_15 (Dropout)        (None, 416)               0         \n",
      "                                                                 \n",
      " dense_7 (Dense)             (None, 1)                 417       \n",
      "                                                                 \n",
      "=================================================================\n",
      "Total params: 1,438,017\n",
      "Trainable params: 1,438,017\n",
      "Non-trainable params: 0\n",
      "_________________________________________________________________\n"
     ]
    }
   ],
   "source": [
    "path = f'{project_name}/lstm'    \n",
    "model_lstm=tf.keras.models.load_model(f'{path}/MODEL_0.tf')\n",
    "print('********************************lstm')\n",
    "model_lstm.summary()"
   ]
  },
  {
   "cell_type": "code",
   "execution_count": 13,
   "metadata": {},
   "outputs": [
    {
     "name": "stdout",
     "output_type": "stream",
     "text": [
      "********************************flstm\n",
      "Model: \"sequential_2\"\n",
      "_________________________________________________________________\n",
      " Layer (type)                Output Shape              Param #   \n",
      "=================================================================\n",
      " custom_lstm_4 (CustomLSTM)  (None, 60, 32)            9888      \n",
      "                                                                 \n",
      " custom_lstm_5 (CustomLSTM)  (None, 60, 288)           804384    \n",
      "                                                                 \n",
      " dense_4 (Dense)             (None, 60, 736)           212704    \n",
      "                                                                 \n",
      " dropout_2 (Dropout)         (None, 60, 736)           0         \n",
      "                                                                 \n",
      " dense_5 (Dense)             (None, 60, 1)             737       \n",
      "                                                                 \n",
      "=================================================================\n",
      "Total params: 1,027,713\n",
      "Trainable params: 1,027,713\n",
      "Non-trainable params: 0\n",
      "_________________________________________________________________\n"
     ]
    }
   ],
   "source": [
    "path = f'{project_name}/flstm'    \n",
    "model_flstm=tf.keras.models.load_model(f'{path}/MODEL_0.tf')\n",
    "print('********************************flstm')\n",
    "model_flstm.summary()"
   ]
  },
  {
   "cell_type": "code",
   "execution_count": 14,
   "metadata": {
    "id": "GUA5YwV1ZbKM"
   },
   "outputs": [],
   "source": [
    "test_data=scaled_data[training_data_len - n : , :]\n",
    "xtest=[]\n",
    "ytest=dataset[training_data_len : , 0]\n",
    "for i in range(n , len(test_data)):\n",
    "    xtest.append(test_data[i-n : i , :])\n",
    "\n",
    "ytest=np.array(ytest)\n",
    "xtest=np.array(xtest)"
   ]
  },
  {
   "cell_type": "code",
   "execution_count": 15,
   "metadata": {},
   "outputs": [
    {
     "data": {
      "text/plain": [
       "array([ 8013.58,  8020.58,  8021.03, ..., 58748.45, 58600.  , 58760.59])"
      ]
     },
     "execution_count": 15,
     "metadata": {},
     "output_type": "execute_result"
    }
   ],
   "source": [
    "ytest"
   ]
  },
  {
   "cell_type": "code",
   "execution_count": 16,
   "metadata": {},
   "outputs": [
    {
     "data": {
      "text/plain": [
       "array([[[1.30767557e-01, 2.48381631e-04],\n",
       "        [1.31066470e-01, 1.09989370e-05],\n",
       "        [1.31211707e-01, 9.15989097e-05],\n",
       "        ...,\n",
       "        [1.30006807e-01, 4.94223793e-05],\n",
       "        [1.29797309e-01, 2.37079469e-05],\n",
       "        [1.29827979e-01, 9.93100907e-05]],\n",
       "\n",
       "       [[1.31066470e-01, 1.09989370e-05],\n",
       "        [1.31211707e-01, 9.15989097e-05],\n",
       "        [1.30933566e-01, 4.13931795e-07],\n",
       "        ...,\n",
       "        [1.29797309e-01, 2.37079469e-05],\n",
       "        [1.29827979e-01, 9.93100907e-05],\n",
       "        [1.29978571e-01, 2.48490162e-04]],\n",
       "\n",
       "       [[1.31211707e-01, 9.15989097e-05],\n",
       "        [1.30933566e-01, 4.13931795e-07],\n",
       "        [1.30529174e-01, 6.13660700e-05],\n",
       "        ...,\n",
       "        [1.29827979e-01, 9.93100907e-05],\n",
       "        [1.29978571e-01, 2.48490162e-04],\n",
       "        [1.30092165e-01, 5.77541577e-05]],\n",
       "\n",
       "       ...,\n",
       "\n",
       "       [[9.39671944e-01, 1.59369773e-04],\n",
       "        [9.40202262e-01, 1.46097437e-04],\n",
       "        [9.40421011e-01, 2.91177411e-05],\n",
       "        ...,\n",
       "        [9.53195054e-01, 2.50548789e-05],\n",
       "        [9.52678529e-01, 9.73239158e-05],\n",
       "        [9.53043163e-01, 4.17118407e-06]],\n",
       "\n",
       "       [[9.40202262e-01, 1.46097437e-04],\n",
       "        [9.40421011e-01, 2.91177411e-05],\n",
       "        [9.41214703e-01, 2.19513793e-04],\n",
       "        ...,\n",
       "        [9.52678529e-01, 9.73239158e-05],\n",
       "        [9.53043163e-01, 4.17118407e-06],\n",
       "        [9.53283819e-01, 1.55156401e-04]],\n",
       "\n",
       "       [[9.40421011e-01, 2.91177411e-05],\n",
       "        [9.41214703e-01, 2.19513793e-04],\n",
       "        [9.41752485e-01, 1.31133953e-04],\n",
       "        ...,\n",
       "        [9.53043163e-01, 4.17118407e-06],\n",
       "        [9.53283819e-01, 1.55156401e-04],\n",
       "        [9.50874831e-01, 6.59955206e-04]]])"
      ]
     },
     "execution_count": 16,
     "metadata": {},
     "output_type": "execute_result"
    }
   ],
   "source": [
    "xtest"
   ]
  },
  {
   "cell_type": "code",
   "execution_count": 17,
   "metadata": {},
   "outputs": [
    {
     "name": "stdout",
     "output_type": "stream",
     "text": [
      "  24/2024 [..............................] - ETA: 9s "
     ]
    },
    {
     "name": "stderr",
     "output_type": "stream",
     "text": [
      "2024-06-01 18:31:34.500764: I tensorflow/stream_executor/cuda/cuda_dnn.cc:384] Loaded cuDNN version 8902\n",
      "2024-06-01 18:31:34.536303: I tensorflow/stream_executor/cuda/cuda_blas.cc:1614] TensorFloat-32 will be used for the matrix multiplication. This will only be logged once.\n"
     ]
    },
    {
     "name": "stdout",
     "output_type": "stream",
     "text": [
      "2024/2024 [==============================] - 11s 5ms/step\n"
     ]
    }
   ],
   "source": [
    "prediction_lstm=model_lstm.predict(xtest)"
   ]
  },
  {
   "cell_type": "code",
   "execution_count": 18,
   "metadata": {},
   "outputs": [
    {
     "data": {
      "text/plain": [
       "(64765, 1)"
      ]
     },
     "execution_count": 18,
     "metadata": {},
     "output_type": "execute_result"
    }
   ],
   "source": [
    "prediction_lstm.shape"
   ]
  },
  {
   "cell_type": "code",
   "execution_count": 19,
   "metadata": {},
   "outputs": [
    {
     "data": {
      "text/plain": [
       "array([[0.1592647 ],\n",
       "       [0.15932216],\n",
       "       [0.159377  ],\n",
       "       ...,\n",
       "       [0.6137037 ],\n",
       "       [0.61371857],\n",
       "       [0.61303747]], dtype=float32)"
      ]
     },
     "execution_count": 19,
     "metadata": {},
     "output_type": "execute_result"
    }
   ],
   "source": [
    "prediction_lstm"
   ]
  },
  {
   "cell_type": "code",
   "execution_count": 20,
   "metadata": {},
   "outputs": [
    {
     "name": "stdout",
     "output_type": "stream",
     "text": [
      "2024/2024 [==============================] - 118s 58ms/step\n"
     ]
    }
   ],
   "source": [
    "prediction_flstm=model_flstm.predict(xtest)"
   ]
  },
  {
   "cell_type": "code",
   "execution_count": 21,
   "metadata": {},
   "outputs": [
    {
     "data": {
      "text/plain": [
       "(64765, 60, 1)"
      ]
     },
     "execution_count": 21,
     "metadata": {},
     "output_type": "execute_result"
    }
   ],
   "source": [
    "prediction_flstm.shape"
   ]
  },
  {
   "cell_type": "code",
   "execution_count": 22,
   "metadata": {},
   "outputs": [
    {
     "data": {
      "text/plain": [
       "array([[[0.12871338],\n",
       "        [0.13078178],\n",
       "        [0.1308316 ],\n",
       "        ...,\n",
       "        [0.12949654],\n",
       "        [0.12936366],\n",
       "        [0.12935421]],\n",
       "\n",
       "       [[0.12903562],\n",
       "        [0.13093749],\n",
       "        [0.13064303],\n",
       "        ...,\n",
       "        [0.12936464],\n",
       "        [0.12935388],\n",
       "        [0.12947175]],\n",
       "\n",
       "       [[0.12919302],\n",
       "        [0.13068408],\n",
       "        [0.13025804],\n",
       "        ...,\n",
       "        [0.12935393],\n",
       "        [0.12947133],\n",
       "        [0.12956873]],\n",
       "\n",
       "       ...,\n",
       "\n",
       "       [[0.8467096 ],\n",
       "        [0.7970292 ],\n",
       "        [0.78759104],\n",
       "        ...,\n",
       "        [0.77994233],\n",
       "        [0.7794699 ],\n",
       "        [0.7794919 ]],\n",
       "\n",
       "       [[0.8472173 ],\n",
       "        [0.7970414 ],\n",
       "        [0.7879946 ],\n",
       "        ...,\n",
       "        [0.7794747 ],\n",
       "        [0.7794888 ],\n",
       "        [0.7796145 ]],\n",
       "\n",
       "       [[0.84730667],\n",
       "        [0.797551  ],\n",
       "        [0.7883399 ],\n",
       "        ...,\n",
       "        [0.77949053],\n",
       "        [0.7796162 ],\n",
       "        [0.7786252 ]]], dtype=float32)"
      ]
     },
     "execution_count": 22,
     "metadata": {},
     "output_type": "execute_result"
    }
   ],
   "source": [
    "prediction_flstm"
   ]
  },
  {
   "cell_type": "code",
   "execution_count": 23,
   "metadata": {},
   "outputs": [],
   "source": [
    "train=data[:training_data_len]\n",
    "test=data[training_data_len:]"
   ]
  },
  {
   "cell_type": "code",
   "execution_count": 24,
   "metadata": {
    "colab": {
     "base_uri": "https://localhost:8080/"
    },
    "id": "_Ly8HKUJZgd6",
    "outputId": "84d73a1c-09df-49a5-ec78-050a2ee8fd58"
   },
   "outputs": [
    {
     "name": "stderr",
     "output_type": "stream",
     "text": [
      "/tmp/ipykernel_143310/2950209554.py:4: SettingWithCopyWarning: \n",
      "A value is trying to be set on a copy of a slice from a DataFrame.\n",
      "Try using .loc[row_indexer,col_indexer] = value instead\n",
      "\n",
      "See the caveats in the documentation: https://pandas.pydata.org/pandas-docs/stable/user_guide/indexing.html#returning-a-view-versus-a-copy\n",
      "  test['prediction_lstm']=prediction_lstm\n"
     ]
    }
   ],
   "source": [
    "Predict_lstm_dataset_like = np.zeros(shape=(len(prediction_lstm), 2) )\n",
    "Predict_lstm_dataset_like[:,0] = prediction_lstm[:,0]\n",
    "prediction_lstm = scaler.inverse_transform(Predict_lstm_dataset_like)[:,0]\n",
    "test['prediction_lstm']=prediction_lstm"
   ]
  },
  {
   "cell_type": "code",
   "execution_count": 25,
   "metadata": {},
   "outputs": [
    {
     "ename": "ValueError",
     "evalue": "could not broadcast input array from shape (64765,1) into shape (64765,)",
     "output_type": "error",
     "traceback": [
      "\u001b[0;31m---------------------------------------------------------------------------\u001b[0m",
      "\u001b[0;31mValueError\u001b[0m                                Traceback (most recent call last)",
      "Cell \u001b[0;32mIn[25], line 2\u001b[0m\n\u001b[1;32m      1\u001b[0m Predict_flstm_dataset_like \u001b[38;5;241m=\u001b[39m np\u001b[38;5;241m.\u001b[39mzeros(shape\u001b[38;5;241m=\u001b[39m(\u001b[38;5;28mlen\u001b[39m(prediction_flstm), \u001b[38;5;241m2\u001b[39m) )\n\u001b[0;32m----> 2\u001b[0m \u001b[43mPredict_flstm_dataset_like\u001b[49m\u001b[43m[\u001b[49m\u001b[43m:\u001b[49m\u001b[43m,\u001b[49m\u001b[38;5;241;43m0\u001b[39;49m\u001b[43m]\u001b[49m \u001b[38;5;241m=\u001b[39m prediction_flstm[:,\u001b[38;5;241m0\u001b[39m]\n\u001b[1;32m      3\u001b[0m prediction_flstm \u001b[38;5;241m=\u001b[39m scaler\u001b[38;5;241m.\u001b[39minverse_transform(Predict_flstm_dataset_like)[:,\u001b[38;5;241m0\u001b[39m]\n\u001b[1;32m      4\u001b[0m test[\u001b[38;5;124m'\u001b[39m\u001b[38;5;124mprediction_flstm\u001b[39m\u001b[38;5;124m'\u001b[39m]\u001b[38;5;241m=\u001b[39mprediction_flstm\n",
      "\u001b[0;31mValueError\u001b[0m: could not broadcast input array from shape (64765,1) into shape (64765,)"
     ]
    }
   ],
   "source": [
    "\n",
    "Predict_flstm_dataset_like = np.zeros(shape=(len(prediction_flstm), 2) )\n",
    "Predict_flstm_dataset_like[:,0] = prediction_flstm[:,0]\n",
    "prediction_flstm = scaler.inverse_transform(Predict_flstm_dataset_like)[:,0]\n",
    "test['prediction_flstm']=prediction_flstm"
   ]
  },
  {
   "cell_type": "code",
   "execution_count": null,
   "metadata": {},
   "outputs": [],
   "source": [
    "test"
   ]
  },
  {
   "cell_type": "code",
   "execution_count": null,
   "metadata": {
    "colab": {
     "base_uri": "https://localhost:8080/",
     "height": 370
    },
    "id": "DFqg0Y-rc2y0",
    "outputId": "ab852d11-a61c-4daf-c259-0c999062e5a4"
   },
   "outputs": [],
   "source": [
    "plt.figure(figsize=(16,8))\n",
    "plt.title('Bitcoin Price Prediction')\n",
    "plt.xlabel('Date')\n",
    "plt.ylabel('Price')\n",
    "plt.plot(train['Close'],color='gray',label='Train')\n",
    "plt.plot(test['Close'], color='blue', label='Test')\n",
    "plt.plot(test['prediction_lstm'], color='green', label='Prediction_lstm')\n",
    "plt.plot(test['prediction_flstm'], color='red', label='Prediction_flstm')\n",
    "plt.legend(['Train','Test','Prediction_lstm','Prediction_flstm'])\n",
    "plt.show()"
   ]
  },
  {
   "cell_type": "code",
   "execution_count": null,
   "metadata": {},
   "outputs": [],
   "source": [
    "start_date = '2021-01-26 09:00:00'\n",
    "end_date = '2021-03-30 23:00:00'\n",
    "filtered_test = test.loc[start_date:end_date]\n",
    "filtered_test"
   ]
  },
  {
   "cell_type": "code",
   "execution_count": null,
   "metadata": {},
   "outputs": [],
   "source": [
    "plt.figure(figsize=(16,8))\n",
    "plt.title('Bitcoin Price Prediction')\n",
    "plt.xlabel('Date')\n",
    "plt.ylabel('Price')\n",
    "plt.plot(filtered_test['Close'], color='blue', label='Test')\n",
    "plt.plot(filtered_test['prediction_lstm'], color='green', label='Prediction_lstm')\n",
    "plt.plot(filtered_test['prediction_flstm'], color='red', label='Prediction_flstm')\n",
    "plt.legend(['Test','Prediction_lstm','Prediction_flstm'])"
   ]
  },
  {
   "cell_type": "code",
   "execution_count": null,
   "metadata": {},
   "outputs": [],
   "source": [
    "# Load the training history which is saved by checkpoint\n",
    "path = f'{project_name}/lstm'    \n",
    "with open(f'{path}/training_history.json', 'r') as f:\n",
    "    history_lstm = json.load(f)\n",
    "\n",
    "# Load the training history which is saved by checkpoint\n",
    "path = f'{project_name}/flstm'    \n",
    "with open(f'{path}/training_history.json', 'r') as f:\n",
    "    history_flstm = json.load(f)\n",
    "    \n",
    "print('history_lstm:', history_lstm)\n",
    "print('********************************')\n",
    "print('history_flstm:', history_flstm)"
   ]
  }
 ],
 "metadata": {
  "accelerator": "GPU",
  "colab": {
   "provenance": []
  },
  "kernelspec": {
   "display_name": "Python 3 (ipykernel)",
   "language": "python",
   "name": "python3"
  },
  "language_info": {
   "codemirror_mode": {
    "name": "ipython",
    "version": 3
   },
   "file_extension": ".py",
   "mimetype": "text/x-python",
   "name": "python",
   "nbconvert_exporter": "python",
   "pygments_lexer": "ipython3",
   "version": "3.9.19"
  }
 },
 "nbformat": 4,
 "nbformat_minor": 4
}
